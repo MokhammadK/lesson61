{
 "cells": [
  {
   "cell_type": "code",
   "execution_count": 1,
   "id": "7b444fd5",
   "metadata": {},
   "outputs": [
    {
     "name": "stdout",
     "output_type": "stream",
     "text": [
      "Requirement already satisfied: Pillow in c:\\users\\bruger\\anaconda3\\lib\\site-packages (9.4.0)Note: you may need to restart the kernel to use updated packages.\n",
      "\n"
     ]
    }
   ],
   "source": [
    "pip install Pillow"
   ]
  },
  {
   "cell_type": "code",
   "execution_count": 4,
   "id": "e95522ad",
   "metadata": {},
   "outputs": [],
   "source": [
    "from PIL import Image\n",
    "\n",
    "image = Image.open(\"C:\\\\Users\\\\Bruger\\\\Downloads\\\\cat.jpg\")\n",
    "\n",
    "quality = 80\n",
    "output_path = \"C:\\\\Users\\\\Bruger\\\\Downloads\\\\compressed_image.jpg\"\n",
    "image.save(output_path, 'JPEG', quality=quality)\n",
    "\n",
    "image.close()"
   ]
  },
  {
   "cell_type": "code",
   "execution_count": 8,
   "id": "7e182009",
   "metadata": {},
   "outputs": [
    {
     "name": "stdout",
     "output_type": "stream",
     "text": [
      "Файл C:\\Users\\Bruger\\Downloads\\symonenko.txt був стиснутий та збережений у файл C:\\Users\\Bruger\\Downloads\\compressed_file.gz\n"
     ]
    }
   ],
   "source": [
    "import gzip\n",
    "\n",
    "input_file = 'C:\\\\Users\\\\Bruger\\\\Downloads\\\\symonenko.txt'\n",
    "\n",
    "# Визначте повний шлях та ім'я стиснутого файлу\n",
    "output_path = 'C:\\\\Users\\\\Bruger\\\\Downloads\\\\compressed_file.gz'\n",
    "\n",
    "with open(input_file, 'rb') as f_in:\n",
    "    with gzip.open(output_path, 'wb') as f_out:\n",
    "        f_out.writelines(f_in)\n",
    "\n",
    "print(f'Файл {input_file} був стиснутий та збережений у файл {output_path}')"
   ]
  }
 ],
 "metadata": {
  "kernelspec": {
   "display_name": "Python 3 (ipykernel)",
   "language": "python",
   "name": "python3"
  },
  "language_info": {
   "codemirror_mode": {
    "name": "ipython",
    "version": 3
   },
   "file_extension": ".py",
   "mimetype": "text/x-python",
   "name": "python",
   "nbconvert_exporter": "python",
   "pygments_lexer": "ipython3",
   "version": "3.11.3"
  }
 },
 "nbformat": 4,
 "nbformat_minor": 5
}
